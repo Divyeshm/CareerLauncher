{
 "cells": [
  {
   "cell_type": "code",
   "execution_count": 1,
   "metadata": {},
   "outputs": [],
   "source": [
    "import pandas as pd\n",
    "import numpy as np\n",
    "import matplotlib.pyplot as plt\n",
    "import warnings\n",
    "import seaborn as sns\n",
    "import statsmodels.api as sm\n",
    "from statsmodels.sandbox.regression.predstd import wls_prediction_std\n",
    "warnings.filterwarnings('ignore')"
   ]
  },
  {
   "cell_type": "markdown",
   "metadata": {},
   "source": [
    "# 4.1 \n",
    "#### Import the csv file of the stock which contained the Bollinger columns as well.\n",
    "#### Create a new column 'Call' , whose entries are - \n",
    "\n",
    "#### 'Buy' if the stock price is below the lower Bollinger band \n",
    "\n",
    "#### 'Hold Buy/ Liquidate Short' if the stock price is between the lower and middle Bollinger band \n",
    "\n",
    "#### 'Hold Short/ Liquidate Buy' if the stock price is between the middle and upper Bollinger band \n",
    "\n",
    "#### 'Short' if the stock price is above the upper Bollinger band\n",
    "\n",
    "Now train a classification model with the 3 bollinger columns and the stock price as inputs and 'Calls' as output. Check the accuracy on a test set. (There are many classifier models to choose from, try each one out and compare the accuracy for each)\n",
    "Import another stock data and create the bollinger columns. Using the already defined model, predict the daily calls for this new stock."
   ]
  },
  {
   "cell_type": "code",
   "execution_count": 2,
   "metadata": {},
   "outputs": [],
   "source": [
    "boolinger=pd.read_csv('Boolinger.csv')"
   ]
  },
  {
   "cell_type": "code",
   "execution_count": 3,
   "metadata": {},
   "outputs": [],
   "source": [
    "boolinger.drop(boolinger.columns[boolinger.columns.str.contains('unnamed',case = False)],axis = 1, inplace = True)"
   ]
  },
  {
   "cell_type": "code",
   "execution_count": 4,
   "metadata": {},
   "outputs": [],
   "source": [
    "boolinger = boolinger.dropna()\n",
    "boolinger = boolinger.reset_index(drop=True)"
   ]
  },
  {
   "cell_type": "code",
   "execution_count": 5,
   "metadata": {},
   "outputs": [],
   "source": [
    "boolinger.loc[boolinger['Close Price'] < boolinger['Lower Band'], 'Call'] = 'Buy'  \n",
    "boolinger.loc[(boolinger['Lower Band'] <= boolinger['Close Price']) & (boolinger['Close Price'] < boolinger['rolling_mean']), 'Call'] = 'Hold Buy/ Liquidate Short'\n",
    "boolinger.loc[(boolinger['rolling_mean'] <= boolinger['Close Price']) & (boolinger['Close Price'] < boolinger['Upper Band']) , 'Call'] = 'Hold Buy/ Liquidate Buy'\n",
    "boolinger.loc[boolinger['Close Price'] >= boolinger['Upper Band'], 'Call'] = 'Short'  "
   ]
  },
  {
   "cell_type": "code",
   "execution_count": 6,
   "metadata": {},
   "outputs": [],
   "source": [
    "feature_names=['Close Price','rolling_mean','Upper Band','Lower Band']\n",
    "X=boolinger[feature_names]\n",
    "y=boolinger['Call']\n"
   ]
  },
  {
   "cell_type": "code",
   "execution_count": 7,
   "metadata": {},
   "outputs": [],
   "source": [
    "from sklearn.model_selection import train_test_split\n",
    "X_train, X_test, y_train, y_test = train_test_split(X, y, random_state=0)\n"
   ]
  },
  {
   "cell_type": "markdown",
   "metadata": {},
   "source": [
    "# Different Classification Models with Accuracy"
   ]
  },
  {
   "cell_type": "markdown",
   "metadata": {},
   "source": [
    "## Logistic Regression"
   ]
  },
  {
   "cell_type": "code",
   "execution_count": 8,
   "metadata": {},
   "outputs": [
    {
     "name": "stdout",
     "output_type": "stream",
     "text": [
      "\u001b[1mAccuracy of Logistic regression classifier on training set:\u001b[0m0.94\n",
      "\u001b[1mAccuracy of Logistic regression classifier on test set:\u001b[0m0.95\n"
     ]
    }
   ],
   "source": [
    "from sklearn.linear_model import LogisticRegression\n",
    "logreg = LogisticRegression()\n",
    "logreg.fit(X_train, y_train)\n",
    "print('\\033[1m' +'Accuracy of Logistic regression classifier on training set:' + '\\033[0m' + '{:.2f}'. format(logreg.score(X_train, y_train)))\n",
    "print('\\033[1m' +'Accuracy of Logistic regression classifier on test set:' + '\\033[0m' + '{:.2f}'. format(logreg.score(X_test, y_test)))"
   ]
  },
  {
   "cell_type": "markdown",
   "metadata": {},
   "source": [
    "## Decision Tree "
   ]
  },
  {
   "cell_type": "code",
   "execution_count": 9,
   "metadata": {},
   "outputs": [
    {
     "name": "stdout",
     "output_type": "stream",
     "text": [
      "\u001b[1mAccuracy of Decision Tree classifier on training set:\u001b[0m1.00\n",
      "\u001b[1mAccuracy of Decision Tree classifier on test set:\u001b[0m0.85\n"
     ]
    }
   ],
   "source": [
    "from sklearn.tree import DecisionTreeClassifier\n",
    "clf = DecisionTreeClassifier()\n",
    "clf.fit(X_train, y_train)\n",
    "print('\\033[1m' +'Accuracy of Decision Tree classifier on training set:' + '\\033[0m' + '{:.2f}'. format(clf.score(X_train, y_train)))\n",
    "print('\\033[1m' +'Accuracy of Decision Tree classifier on test set:' + '\\033[0m' + '{:.2f}'. format(clf.score(X_test, y_test)))"
   ]
  },
  {
   "cell_type": "markdown",
   "metadata": {},
   "source": [
    "## K-Nearest Neighbors"
   ]
  },
  {
   "cell_type": "code",
   "execution_count": 10,
   "metadata": {},
   "outputs": [
    {
     "name": "stdout",
     "output_type": "stream",
     "text": [
      "\u001b[1mAccuracy of K-NN classifier on training set:\u001b[0m0.85\n",
      "\u001b[1mAccuracy of K-NN classifier on test set:\u001b[0m0.88\n"
     ]
    }
   ],
   "source": [
    "from sklearn.neighbors import KNeighborsClassifier\n",
    "knn = KNeighborsClassifier()\n",
    "knn.fit(X_train, y_train)\n",
    "print('\\033[1m' +'Accuracy of K-NN classifier on training set:' + '\\033[0m' + '{:.2f}'. format(knn.score(X_train, y_train)))\n",
    "print('\\033[1m' +'Accuracy of K-NN classifier on test set:' + '\\033[0m' + '{:.2f}'. format(knn.score(X_test, y_test)))"
   ]
  },
  {
   "cell_type": "markdown",
   "metadata": {},
   "source": [
    "## Support Vector Machine"
   ]
  },
  {
   "cell_type": "code",
   "execution_count": 11,
   "metadata": {},
   "outputs": [
    {
     "name": "stdout",
     "output_type": "stream",
     "text": [
      "\u001b[1mAccuracy of SVM classifier on training set:\u001b[0m1.00\n",
      "\u001b[1mAccuracy of SVM classifier on test set:\u001b[0m0.56\n"
     ]
    }
   ],
   "source": [
    "from sklearn.svm import SVC\n",
    "svm = SVC()\n",
    "svm.fit(X_train, y_train)\n",
    "print('\\033[1m' +'Accuracy of SVM classifier on training set:' + '\\033[0m' + '{:.2f}'. format(svm.score(X_train, y_train)))\n",
    "print('\\033[1m' +'Accuracy of SVM classifier on test set:' + '\\033[0m' + '{:.2f}'. format(svm.score(X_test, y_test)))"
   ]
  },
  {
   "cell_type": "markdown",
   "metadata": {},
   "source": [
    "## Linear Discriminant Analysis"
   ]
  },
  {
   "cell_type": "code",
   "execution_count": 12,
   "metadata": {},
   "outputs": [
    {
     "name": "stdout",
     "output_type": "stream",
     "text": [
      "\u001b[1mAccuracy of LDA classifier on training set:\u001b[0m0.90\n",
      "\u001b[1mAccuracy of LDA classifier on test set:\u001b[0m0.90\n"
     ]
    }
   ],
   "source": [
    "from sklearn.discriminant_analysis import LinearDiscriminantAnalysis\n",
    "lda = LinearDiscriminantAnalysis()\n",
    "lda.fit(X_train, y_train)\n",
    "print('\\033[1m' +'Accuracy of LDA classifier on training set:' + '\\033[0m' + '{:.2f}'. format(lda.score(X_train, y_train)))\n",
    "print('\\033[1m' +'Accuracy of LDA classifier on test set:' + '\\033[0m' + '{:.2f}'. format(lda.score(X_test, y_test)))"
   ]
  },
  {
   "cell_type": "markdown",
   "metadata": {},
   "source": [
    "We will apply the Logistic Regression Classifier on our subsequent dataset for prediction."
   ]
  },
  {
   "cell_type": "markdown",
   "metadata": {},
   "source": [
    "## Predicting the Call Column for JETAIRWAYS Stock"
   ]
  },
  {
   "cell_type": "code",
   "execution_count": 13,
   "metadata": {},
   "outputs": [],
   "source": [
    "jet=pd.read_csv('JETAIRWAYS.csv')\n"
   ]
  },
  {
   "cell_type": "code",
   "execution_count": 14,
   "metadata": {},
   "outputs": [],
   "source": [
    "df2=pd.DataFrame()\n",
    "df2['Date']=jet['Date']\n",
    "df2['Close Price']=jet['Close Price']\n",
    "df2['rolling_mean']=df2['Close Price'].rolling(window=14).mean()\n",
    "df2['STD']=df2['Close Price'].rolling(window=14).std()\n",
    "df2['Upper Band']=df2['rolling_mean'] + 2*(df2['STD'])\n",
    "df2['Lower Band']=df2['rolling_mean'] - 2*(df2['STD'])"
   ]
  },
  {
   "cell_type": "code",
   "execution_count": 15,
   "metadata": {},
   "outputs": [],
   "source": [
    "df2 = df2.dropna()\n",
    "df2 = df2.reset_index(drop=True)"
   ]
  },
  {
   "cell_type": "code",
   "execution_count": 16,
   "metadata": {},
   "outputs": [],
   "source": [
    "# Finding the real Call and checking the accuracy of our prediction model\n",
    "df2.loc[df2['Close Price'] < df2['Lower Band'], 'Call_true'] = 'Buy'  \n",
    "df2.loc[(df2['Lower Band'] <= df2['Close Price']) & (df2['Close Price'] < df2['rolling_mean']), 'Call_true'] = 'Hold Buy/ Liquidate Short'\n",
    "df2.loc[(df2['rolling_mean'] <= df2['Close Price']) & (df2['Close Price'] < df2['Upper Band']) , 'Call_true'] = 'Hold Buy/ Liquidate Buy'\n",
    "df2.loc[df2['Close Price'] >= df2['Upper Band'], 'Call_true'] = 'Short'"
   ]
  },
  {
   "cell_type": "code",
   "execution_count": 17,
   "metadata": {},
   "outputs": [],
   "source": [
    "df2['Call_pred']=logreg.predict(df2[['Close Price','rolling_mean','Upper Band','Lower Band']])"
   ]
  },
  {
   "cell_type": "code",
   "execution_count": 18,
   "metadata": {},
   "outputs": [
    {
     "data": {
      "text/plain": [
       "0.9521829521829522"
      ]
     },
     "execution_count": 18,
     "metadata": {},
     "output_type": "execute_result"
    }
   ],
   "source": [
    "from sklearn.metrics import accuracy_score\n",
    "accuracy_score(df2['Call_true'], df2['Call_pred'])"
   ]
  },
  {
   "cell_type": "markdown",
   "metadata": {},
   "source": [
    "# 4.2\n",
    "#### Now, we'll again utilize classification to make a trade call, and measure the efficiency of our trading algorithm over the past two years. For this assignment , we will use RandomForest classifier.\n",
    "Import the stock data file of your choice\n",
    "Define 4 new columns , whose values are: \n",
    "\n",
    "% change between Open and Close price for the day \n",
    "\n",
    "% change between Low and High price for the day \n",
    "\n",
    "5 day rolling mean of the day to day % change in Close Price \n",
    "\n",
    "5 day rolling std of the day to day % change in Close Price\n",
    "\n",
    "Create a new column 'Action' whose values are: \n",
    "1 if next day's price(Close) is greater than present day's.\n",
    "\n",
    "(-1) if next day's price(Close) is less than present day's.\n",
    "\n",
    "i.e. Action [ i ] = 1 if Close[ i+1 ] > Close[ i ] \n",
    "\n",
    "i.e. Action [ i ] = (-1) if Close[ i+1 ] < Close[ i ]\n",
    "\n",
    "Construct a classification model with the 4 new inputs and 'Action' as target\n",
    "\n",
    "Check the accuracy of this model , also , plot the net cumulative returns (in %) if we were to follow this algorithmic model"
   ]
  },
  {
   "cell_type": "code",
   "execution_count": 19,
   "metadata": {},
   "outputs": [],
   "source": [
    "rcom=pd.read_csv('BAJAJELEC.csv')"
   ]
  },
  {
   "cell_type": "code",
   "execution_count": 20,
   "metadata": {},
   "outputs": [],
   "source": [
    "df=pd.DataFrame()\n",
    "df['Date']=rcom['Date']\n",
    "df['OpenClose']=(rcom['Open Price']-rcom['Close Price'])/rcom['Open Price']*100\n",
    "df['LowHigh']=(rcom['Low Price']-rcom['High Price'])/rcom['Low Price']*100\n",
    "df['rolling_mean']=(rcom['Close Price'].pct_change()*100).rolling(window=5).mean()\n",
    "df['rolling_std']=(rcom['Close Price'].pct_change()*100).rolling(window=5).std()\n",
    "df['Close Price']=rcom['Close Price']\n",
    "df = df.dropna()\n",
    "df = df.reset_index(drop=True)\n"
   ]
  },
  {
   "cell_type": "code",
   "execution_count": 21,
   "metadata": {},
   "outputs": [],
   "source": [
    "df.loc[df['Close Price'] < df['Close Price'].shift(-1), 'Action'] = float(1)\n",
    "df.loc[df['Close Price'] > df['Close Price'].shift(-1), 'Action'] = float(-1)\n",
    "df.drop(df.tail(1).index,inplace=True)\n",
    "df['Action']=df['Action'].astype(int)"
   ]
  },
  {
   "cell_type": "code",
   "execution_count": 22,
   "metadata": {},
   "outputs": [],
   "source": [
    "feature_names=['OpenClose','LowHigh','rolling_mean','rolling_std']\n",
    "X=df[feature_names]\n",
    "y=df['Action']\n"
   ]
  },
  {
   "cell_type": "code",
   "execution_count": 23,
   "metadata": {},
   "outputs": [],
   "source": [
    "from sklearn.model_selection import train_test_split\n",
    "X_train, X_test, y_train, y_test = train_test_split(X, y, random_state=0)"
   ]
  },
  {
   "cell_type": "code",
   "execution_count": 24,
   "metadata": {},
   "outputs": [
    {
     "name": "stdout",
     "output_type": "stream",
     "text": [
      "\u001b[1mAccuracy of Random Forest classifier on training set:\u001b[0m0.99\n",
      "\u001b[1mAccuracy of Random Forest classifier on test set:\u001b[0m0.54\n"
     ]
    }
   ],
   "source": [
    "from sklearn.ensemble import RandomForestClassifier\n",
    "model = RandomForestClassifier()\n",
    "model.fit(X_train, y_train)\n",
    "print('\\033[1m' +'Accuracy of Random Forest classifier on training set:' + '\\033[0m' + '{:.2f}'. format(model.score(X_train, y_train)))\n",
    "print('\\033[1m' +'Accuracy of Random Forest classifier on test set:' + '\\033[0m' + '{:.2f}'. format(model.score(X_test, y_test)))\n"
   ]
  },
  {
   "cell_type": "code",
   "execution_count": 25,
   "metadata": {},
   "outputs": [],
   "source": [
    "df3=pd.DataFrame()\n",
    "df3['Date']=rcom['Date']\n",
    "df3[\"Date\"]=pd.to_datetime(df3[\"Date\"])\n",
    "#df3['Daily']=rcom['Close Price'].pct_change()*100\n",
    "df3['Cumulative']=((rcom['Close Price'].pct_change() + 1).cumprod() - 1)*100\n"
   ]
  },
  {
   "cell_type": "code",
   "execution_count": 26,
   "metadata": {},
   "outputs": [
    {
     "data": {
      "text/plain": [
       "Text(0, 0.5, 'Cumulative Return(%)')"
      ]
     },
     "execution_count": 26,
     "metadata": {},
     "output_type": "execute_result"
    },
    {
     "data": {
      "image/png": "[encoded data removed]",
      "text/plain": [
       "<Figure size 1440x936 with 1 Axes>"
      ]
     },
     "metadata": {
      "needs_background": "light"
     },
     "output_type": "display_data"
    }
   ],
   "source": [
    "fig_size = plt.rcParams[\"figure.figsize\"]\n",
    "fig_size[0] = 20\n",
    "fig_size[1] = 13\n",
    "plt.rcParams[\"figure.figsize\"] = fig_size\n",
    "plt.plot(df3['Cumulative'],color='orange')\n",
    "plt.ylabel('Cumulative Return(%)')"
   ]
  },
  {
   "cell_type": "code",
   "execution_count": null,
   "metadata": {},
   "outputs": [],
   "source": []
  }
 ],
 "metadata": {
  "kernelspec": {
   "display_name": "Python 3",
   "language": "python",
   "name": "python3"
  },
  "language_info": {
   "codemirror_mode": {
    "name": "ipython",
    "version": 3
   },
   "file_extension": ".py",
   "mimetype": "text/x-python",
   "name": "python",
   "nbconvert_exporter": "python",
   "pygments_lexer": "ipython3",
   "version": "3.7.1"
  }
 },
 "nbformat": 4,
 "nbformat_minor": 2
}
